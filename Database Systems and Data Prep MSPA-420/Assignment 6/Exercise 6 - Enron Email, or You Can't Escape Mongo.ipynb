{
 "cells": [
  {
   "cell_type": "markdown",
   "metadata": {},
   "source": [
    "(CC) Creative Commons BY-SA Lynd Bacon & Associates, Ltd. DBA Loma Buena Associates"
   ]
  },
  {
   "cell_type": "markdown",
   "metadata": {},
   "source": [
    "In this last required assignment you'll be working with and examining email data from the Enron Corporation, which infamously collapsed into bankruptcy in December 2001.  The email data was compiled by the Federal Energy Regulatory Commission for investigative and litigation purposes.  It is now available from diverse sources and in various forms, and it has been researched by many. You can find out about this data at:\n",
    "\n",
    "https://en.wikipedia.org/wiki/Enron_Corpus\n",
    "\n",
    "The version of the data you'll use for this exercise is housed on the SSCC and in a MongoDB database.  You'll obtain it from the SSCC and will work on it locally using Python."
   ]
  },
  {
   "cell_type": "markdown",
   "metadata": {},
   "source": [
    "## The Data"
   ]
  },
  {
   "cell_type": "markdown",
   "metadata": {},
   "source": [
    "Your goal is to get the data into a Python session running on your computer.\n",
    "\n",
    "The data are on the SSCC.  You can prepare prepare it for download by using the Mongo shell on the SSCC, or you can get it by accessing the MongoDB directly by using the Mongo client, or from within a Python session using the pymongo package.  See the document `sscc_sps_tutorial_1_2_3_4_5.pdf` that's on Canvas for examples of using either method. Given your Python experience you might find the latter method easier.  The data you want are in the `messages` collection in the `enron` database that include \"klay@enron.com,\" Ken Lay's email address, somewhere in the message, either in a header or in the message body.  Lay was the Enron CEO at the time of the bankruptcy.  These are the messages you want to download.\n",
    "\n",
    "The `messages` collection on the SSCC has 501,513 messages in it.   A relatively small number of these mention Lay's email address `klay@enron.com`. \n"
   ]
  },
  {
   "cell_type": "markdown",
   "metadata": {},
   "source": [
    "## What You Need To Do"
   ]
  },
  {
   "cell_type": "markdown",
   "metadata": {},
   "source": [
    "When you do the following, be sure to check your work in each step.\n",
    "\n",
    "1. Import the `messages` that include Key Lay's email addreess into a list of dicts. \n",
    "2. \"Flatten\" the nested dicts as needed. See the `sscc_sps_tutorial_1_2_3_4_5.pdf` document.\n",
    "3. convert the message dates to data objects (See the aforementioned document.)\n",
    "\n",
    "Then, do the following:\n",
    "\n",
    "1. Determine how many of the messages are \"To:\" Ken Lay, \"From:\" Ken Lay, and on which Ken Lay was cc'd or bcc'd.  Get a count for each of these.\n",
    "2. Who did Lay send the most emails to?  Who did he receive the most from?\n",
    "3. Did the volume of emails sent by Lay increase or decrease after bankruptcy was declared?\n",
    "3. How many of these email messages mention Arthur Andersen, Enron's accounting firm?\n"
   ]
  },
  {
   "cell_type": "markdown",
   "metadata": {},
   "source": [
    "## Your Deliverables"
   ]
  },
  {
   "cell_type": "markdown",
   "metadata": {},
   "source": [
    "In three (3) pages or less ind a pdf file, but in _no more than three pages_, provide answers to each of the three \"do\" items, above. Include your code, and explain what each line does.\n",
    "\n",
    "Be prepared to share  your results."
   ]
  },
  {
   "cell_type": "markdown",
   "metadata": {
    "collapsed": true
   },
   "source": [
    "## Extra Credit!"
   ]
  },
  {
   "cell_type": "markdown",
   "metadata": {},
   "source": [
    "This is worth up to ten (10) points towards the course grade if done completely.\n",
    "\n",
    "Using the total number of From: and To: between all email users mentioned, construct an undirected network graph with edges showing number of emails people exchanged.  Provide your results in no more than two (2) pages, including your code and an explanation of what each line of it does.  Include these pages with your Exercise 5 submission."
   ]
  }
 ],
 "metadata": {
  "kernelspec": {
   "display_name": "Python 2",
   "language": "python",
   "name": "python2"
  },
  "language_info": {
   "codemirror_mode": {
    "name": "ipython",
    "version": 2
   },
   "file_extension": ".py",
   "mimetype": "text/x-python",
   "name": "python",
   "nbconvert_exporter": "python",
   "pygments_lexer": "ipython2",
   "version": "2.7.10"
  }
 },
 "nbformat": 4,
 "nbformat_minor": 0
}
