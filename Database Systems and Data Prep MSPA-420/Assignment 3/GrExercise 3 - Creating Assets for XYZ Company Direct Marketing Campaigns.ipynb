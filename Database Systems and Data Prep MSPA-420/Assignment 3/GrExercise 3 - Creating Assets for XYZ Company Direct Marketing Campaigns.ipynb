{
 "cells": [
  {
   "cell_type": "markdown",
   "metadata": {},
   "source": [
    "(CC) Creative Commons BY-SA Lynd Bacon & Associates, Ltd. DBA Loma Buena Associates"
   ]
  },
  {
   "cell_type": "markdown",
   "metadata": {},
   "source": [
    "In this exercise you will create two data \"assets\" for use by the XYZ company in direct marketing campaigns.  You will download from a SSCC server to your local computer, create a relational database for it that you'll store locally, and create a \"flat\" file with selected customers and variables.  You'll document your work by providing the code you used and some summaries of the data.  You'll save the new assets you created for future use and for sharing with others.\n",
    "\n",
    "To do this assignment you'll be using the SSCC and a Postgres server running on it, Python and the pandas package, and the sqlite database."
   ]
  },
  {
   "cell_type": "markdown",
   "metadata": {},
   "source": [
    "## Getting Your Data from the SSCC"
   ]
  },
  {
   "cell_type": "markdown",
   "metadata": {},
   "source": [
    "XYZ's data are in a Postgres server on the SSCC.  To get them, log in to the dornick server.  You'll need to do this over VPN if you are off campus.\n",
    "\n",
    "Then, connect to the Postgres database server.\n",
    "\n",
    "You'll find three (3) tables in the pilot schema named item, mail, and customer.  Export each table as a csv file with a header, using a temporary view to do each one.  Using psql is the easiest way to do this.  After you are done, delete each temporary view. \n",
    "\n",
    "Download your csv files to your computer.\n",
    "\n",
    "Note: the XYZ Company data stored in Postgres on the SSCC are not exactly the same data as "
   ]
  },
  {
   "cell_type": "markdown",
   "metadata": {},
   "source": [
    "## Working With the Data"
   ]
  },
  {
   "cell_type": "markdown",
   "metadata": {},
   "source": [
    "Once you have your csv files on your computer, do the following:\n",
    "\n",
    "1. Import each of the csv files you downloaded from the SSCC into a pandas DataFrame.\n",
    "2. Verify that there are no duplicate customer records in the customer data.\n",
    "3. Check the item and mail data to determine whether there are any records in them for customers who are not in the customers data.\n",
    "4. Create a sqlite database, and write the customer, item, and mail data into it as tables.  Do not include any item or mail data that don't match a customer.  You may want to use sqlalchemy to do this.  Save this database for use in the future.\n",
    "5. Create and export a csv file for XYZ to target in a direct mail marketing campaign.  This file should have the following data fields in it, and it should have a header record giving field names.  It should only include customers who have been mailed at least five times in XYZ's 16 mail campaigns.\n",
    "6. Pickle your pandas DataFrames.\n",
    "\n",
    "Data fields to be included in the csv file:\n",
    "* account number\n",
    "* number of mail campaigns\n",
    "* 2009 year-to-date transactions\n",
    "* 2009 year-to-date sales\n",
    "* ZHOMENT\n",
    "* ZMOBAV\n",
    "* ZHOMENT01\n",
    "* ZMOBAV01\n",
    "\n",
    "The first two \"Z\" variables are from Experian.  They have categorical value codes that you'll find defined in the XYZ Company data documentation. For each of these \"Z\" variables, create a version that is numeric and is coded \"1\" (numeric) if the original is coded \"Y,\" and \"0\" (numeric) for any other original code."
   ]
  },
  {
   "cell_type": "markdown",
   "metadata": {},
   "source": [
    "## Your Deliverables"
   ]
  },
  {
   "cell_type": "markdown",
   "metadata": {},
   "source": [
    "In up to three (3) pages, but in *no more than three pages*, in a pdf file provide the following:\n",
    "    \n",
    "* The code you used to create your csv files on the SSCC, as indicated above in __Getting Your Data from the SSCC__.  Explain what each command or statement you used, did.\n",
    "* The code you used to complete each of the steps in __Working With the Data__, above.  Explain (briefly) what each command or statement, did.\n",
    "* A count of the number of records in each of the tables you saved in your sqlite db, and the code you used to calculate them.\n",
    "* A cross-tabulation of ZHOMENT and ZHOMENT01, and of ZMOBAV and ZMOBAV01, showing in each case that your recoding worked as required.\n",
    "* A count of the number of customer records in your csv file.\n",
    "* A listing that includes the header record of your csv file and the last five (5) records in the file.\n",
    "\n",
    "Be sure to explain what each line of your code does.\n",
    "\n",
    "Save your sqlite database, and also your pickle and csv files.  Be prepared to share them with the class if requested."
   ]
  }
 ],
 "metadata": {
  "kernelspec": {
   "display_name": "Python 2",
   "language": "python",
   "name": "python2"
  },
  "language_info": {
   "codemirror_mode": {
    "name": "ipython",
    "version": 2
   },
   "file_extension": ".py",
   "mimetype": "text/x-python",
   "name": "python",
   "nbconvert_exporter": "python",
   "pygments_lexer": "ipython2",
   "version": "2.7.10"
  }
 },
 "nbformat": 4,
 "nbformat_minor": 0
}
