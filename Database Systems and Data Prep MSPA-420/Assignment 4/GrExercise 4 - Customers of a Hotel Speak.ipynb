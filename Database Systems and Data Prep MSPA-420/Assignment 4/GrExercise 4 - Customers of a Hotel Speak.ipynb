{
 "cells": [
  {
   "cell_type": "markdown",
   "metadata": {},
   "source": [
    "(CC) Creative Commons BY-SA Lynd Bacon & Associates, Ltd. DBA Loma Buena Associates"
   ]
  },
  {
   "cell_type": "markdown",
   "metadata": {},
   "source": [
    "In this exercise you will work with TripAdvisor customer review data about a particular hotel. The data is in a json file.  To help the hotel understand the feedback the reviews provide, and what it might suggest they should focus on to improve customer experience, you'll extract each reviewer's ratings of the hotel and will summarize them. You'll save the ratings and the written reviews in separate files that others can use. You'll use Python data structures like dicts, json objects, and pandas DataFrames and Series."
   ]
  },
  {
   "cell_type": "markdown",
   "metadata": {},
   "source": [
    "## The Data"
   ]
  },
  {
   "cell_type": "markdown",
   "metadata": {},
   "source": [
    "The data are in the json file 100506.json. This json file contains data in \"nested Python dicts.\"  That is, the data  values are in Python dictionaries, some of which are contained in other dictionaries.  Python dictionaries (\"dicts\") are objects that store key/value pairs.  The \"values\" can be verious kinds of things, including lists, arrays, and other dicts.   The keys need to be unique: there can't be duplicates.  Take a look at your course texts and other materials that have been recommended or made available to you to learn more about dicts.\n",
    "\n",
    "The data includes some information about the hotel, and a number of reviews of it by people who (we assume) stayed at it.\n",
    "\n",
    "These data have been made available by the resarchers of the LARA project, http://www.cs.virginia.edu/~hw5x/dataset.html"
   ]
  },
  {
   "cell_type": "markdown",
   "metadata": {},
   "source": [
    "## Your Objectives"
   ]
  },
  {
   "cell_type": "markdown",
   "metadata": {},
   "source": [
    "Here's what you need to do.\n",
    "\n",
    "1. Extract the reviewer data from the json file into a pandas Data Frame with reviewers in the rows, and the numerical ratings, review date, and review author name in columns.\n",
    "2. Calculate the mean, and the minimum and maximum for each rating.\n",
    "3. Save your numeric ratings data in a pickle file.\n",
    "4. Save the reviewers' comments as text data indexed by reviewer name.  Include with each written review its review date.\n",
    "\n",
    "You may be asked to share your code and data with others."
   ]
  },
  {
   "cell_type": "markdown",
   "metadata": {},
   "source": [
    "## Working with the data"
   ]
  },
  {
   "cell_type": "markdown",
   "metadata": {},
   "source": [
    "Put the file 100506.json in a location you can read from in a Python session. The file is a json file, so import the json package into your Python session.  Let's call the Python object you've loaded into \"jsondat.\"  You might have read the contents of the file into a Python session like:"
   ]
  },
  {
   "cell_type": "raw",
   "metadata": {},
   "source": [
    "with open('100506.json') as input_file:\n",
    "    jsondat=json.load(input_file)\n"
   ]
  },
  {
   "cell_type": "markdown",
   "metadata": {},
   "source": [
    "`jsondat` is (or should be) a dictionary of dictionaries.  It includes information about the hotel, and also reviews written by customers that include text and ratings.  \n",
    "\n",
    "Your reviews data is in jsondat[\"Reviews\"]. It's a collection of reviews by people who have visited the hotel.  Each review is a dictionary that includes the reviewer's name (\"Author\"), some ratings that are in their own dict (\"Ratings\"), a review date (\"Date\"), and some descriptive text.  You want to extract the authors' names, their ratings, and their review dates from `jsondat`, and put them into a pandas DataFrame.  You want the ratings to be numeric so that you can calculate some descriptive statistics.  When all is done you'll pickle your DataFrame so that you can retrieve your results or share them with others.  You want to save the reviewers' text comments into a text file along with their author names and their review dates.\n",
    "\n",
    "__Doing It__\n",
    "\n",
    "There are different ways you could do this exercise.  Regardless of how you go about it, It's usually useful to break down necessary steps into the simplest pieces possible so that you can test each piece to see that it works. It's easy to do this in an interactive Python session because you can enter single commands or just a few commands to see how they work. Here are some ideas about how to proceed with the data at hand.\n",
    "\n",
    "Extract the \"Reviews\" dict from `jsondat` into a separate dict.  Let's call this dict `Reviews`. \n",
    "\n",
    "You need to create two data \"objects\" you will save.  One ia s pandas DataFrame with reviewers' hotel ratings in it. The other (type not specified, but you can choose; a DataFrame might suffice) includes reviewers' comments about the hotel as text data.\n",
    "\n",
    "Starting with the ratings data first, you can \"extract\" it from `Reviews` one reviewer at a time, and in the form of a dict.  Put the reviewers' dicts into a list.   You'll find that converting a list of dicts into a pandas DataFrame is (or should be) straightforward.  Use a `for loop` to loop over the reviews what are in `Reviews`.  To recap:\n",
    "\n",
    "1. Initialize the list you'll put your reviewer dicts in.\n",
    "2. Use a for loop to process the reviews in `Reviews` one a a time\n",
    "3. For each review, put Author, Date, and the ratings into a dict\n",
    "4. Add each review dict to your list of dicts.\n",
    "5. When all the reviews are in your list of dicts, convert it into a pandas DataFrame \n",
    "\n",
    "Note that the data (the \"values\") in the json data are Unicode character data.  (That's what those \"u's\" are before the character strings.)  You'll want to convert the ratings data to be numeric. YOu can do this as you process each review, or afterward in your DataFrame.\n",
    "\n",
    "You can use the same kind of approach for processing the the reviewers' comments.  It's up to you what kind of data object to put the comments data in when you extract it from jsondat[\"Reviews\"].\n"
   ]
  },
  {
   "cell_type": "markdown",
   "metadata": {},
   "source": [
    "## Your Deliverables"
   ]
  },
  {
   "cell_type": "markdown",
   "metadata": {},
   "source": [
    "In no more than three (3) pages in a pdf file, provide the following.\n",
    "\n",
    "1. The code used to create, describe statistically, and pickle the pandas DataFrame with the ratings data in it, with an explanation of what each code statement does.\n",
    "2. The mean, minimum, and a maximum for each type of rating that the hotel received.\n",
    "3. The same as 1. for the reviewer comments data\n",
    "\n",
    "Be prepared to share your results."
   ]
  },
  {
   "cell_type": "markdown",
   "metadata": {},
   "source": [
    "## GrExercise 4 Extra Credit!"
   ]
  },
  {
   "cell_type": "markdown",
   "metadata": {},
   "source": [
    "This is worth up to five (5) extra points towards your course grade.  This TripAdvisor json file includes information about the hotel. (See jsondat[\"HotelInfo\"].)  This information includes address information and price information.  Suppose you or your \"Powers That Be\" wanted a data set of this information for a large number of hotels, where the data about the hotels are stored in json files like 100506.json.  Write some Python code to parse the \"HotelInfo\" in these json files into a DataFrame for use in subsequent analyses.  Assume that you can read the json files into Python one file at a time. Be sure to save only the hotel info data for each hotel, and not also any formatting marks or tags. Explain what each line of your code does, and show that it works using the \"HotelInfo\" in 100506.json.  Submit as an extra page with this Caselet."
   ]
  }
 ],
 "metadata": {
  "kernelspec": {
   "display_name": "Python 2",
   "language": "python",
   "name": "python2"
  },
  "language_info": {
   "codemirror_mode": {
    "name": "ipython",
    "version": 2
   },
   "file_extension": ".py",
   "mimetype": "text/x-python",
   "name": "python",
   "nbconvert_exporter": "python",
   "pygments_lexer": "ipython2",
   "version": "2.7.10"
  }
 },
 "nbformat": 4,
 "nbformat_minor": 0
}
