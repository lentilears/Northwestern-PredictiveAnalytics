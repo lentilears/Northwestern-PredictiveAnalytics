{
 "cells": [
  {
   "cell_type": "markdown",
   "metadata": {},
   "source": [
    "## The Task at Hand: Linking Airports, Airlines, and Routes"
   ]
  },
  {
   "cell_type": "markdown",
   "metadata": {},
   "source": [
    "(CC) 2015 Creative Commons BY-SA Lynd Bacon & Associates, Ltd. DBA Loma Buena Associates"
   ]
  },
  {
   "cell_type": "markdown",
   "metadata": {},
   "source": [
    "In this Exercise you will examine various aspects of your data, and you will summarize some characteristics of airlines and routes."
   ]
  },
  {
   "cell_type": "markdown",
   "metadata": {},
   "source": [
    "## The Data"
   ]
  },
  {
   "cell_type": "markdown",
   "metadata": {},
   "source": [
    "Read each DataFrame into Python from the pickle file you saved it in."
   ]
  },
  {
   "cell_type": "markdown",
   "metadata": {},
   "source": [
    "## What You Need to Do"
   ]
  },
  {
   "cell_type": "markdown",
   "metadata": {},
   "source": [
    "For this exercise you'll be using the DataFrames you modified and pickled in GrExercise 1 to do the following:\n",
    "\n",
    "1. Check the airports, routes, and airlines data for duplicate records.\n",
    "2. Describe the data types of the columns in each Data Frame.\n",
    "3. Inspect the indexes of your three DataFrames to see what the values are.\n",
    "4. Determine how many \"defunct\" airlines are in the data.\n",
    "5. Check to see whether the routes data include any \"flights from nowhere,\" flights that don't originate from an airport included in the airports data.\n",
    "\n",
    "Be sure to save your DataFrames.  (You will need them for subsequent assignments).  You can save them by pickling, by storing them as tables in a SQL DB, or by some other means.  You just need to be able to get them back later."
   ]
  },
  {
   "cell_type": "markdown",
   "metadata": {},
   "source": [
    "## Your Deliverables"
   ]
  },
  {
   "cell_type": "markdown",
   "metadata": {},
   "source": [
    "In one or three pages, but no more than three, report the following.  Explain what each line of your code does.\n",
    "\n",
    "1. The Python code you used to read each of the input data files into pandas DataFrames\n",
    "2. The python code you used to check each of your three DataFrames for duplicate records, and the results you got for each one.\n",
    "3. The python code you used to describe the data types of the columns in your three DataFrames, and the results you got for each.\n",
    "4. List the first ten (10) values of each of your three DataFrames' row index, and include the Python statement(s) you used to produce them.\n",
    "5. Report how many airlines are listed in the airlines data, and how many of them are \"defunct.\" Provide the Python code you used to determine these quantities.\n",
    "6. Provide the Python code you used to check for \"flights from nowhere\" and the results you obtained by using it.\n",
    "7. Provide the code you used for pickling your DataFrames."
   ]
  },
  {
   "cell_type": "markdown",
   "metadata": {},
   "source": [
    "## Extra Credit!  (up to 5 points)"
   ]
  },
  {
   "cell_type": "markdown",
   "metadata": {},
   "source": [
    "Write or find some Python code to compute distances based on lattitude and longitude pairs.  Then find the ten (10) longest flight routes from Chicago O'Hare.  List your results by airport name and distance from O'Hare.  Include your Python code, and explain what it does, line by line.  Submit as an extra page with this assignment."
   ]
  }
 ],
 "metadata": {
  "kernelspec": {
   "display_name": "Python 2",
   "language": "python",
   "name": "python2"
  },
  "language_info": {
   "codemirror_mode": {
    "name": "ipython",
    "version": 2
   },
   "file_extension": ".py",
   "mimetype": "text/x-python",
   "name": "python",
   "nbconvert_exporter": "python",
   "pygments_lexer": "ipython2",
   "version": "2.7.10"
  }
 },
 "nbformat": 4,
 "nbformat_minor": 0
}
