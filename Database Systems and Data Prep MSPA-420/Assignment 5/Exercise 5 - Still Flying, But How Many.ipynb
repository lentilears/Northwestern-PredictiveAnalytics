{
 "cells": [
  {
   "cell_type": "markdown",
   "metadata": {},
   "source": [
    "(CC) Creative Commons BY-SA Lynd Bacon & Associates, Ltd. DBA Loma Buena Associates"
   ]
  },
  {
   "cell_type": "markdown",
   "metadata": {},
   "source": [
    "In this exercise you'll examine passenger volume data and also incident and accident data for airlines and airports.  You have the use of your previously manipulated air transportation data (the data you worked with in Exercises 1 and 2). New data are from the U.S. Dept. of Transportation (USDOT) and the U.S. Federal Aviation Administration (FAA)."
   ]
  },
  {
   "cell_type": "markdown",
   "metadata": {},
   "source": [
    "## The Data"
   ]
  },
  {
   "cell_type": "markdown",
   "metadata": {},
   "source": [
    "The data that are new in this assignment are from the USDOT and FAA.  The USDOT data are for calendar year 2014. They are about passengers who travelled.  It's in the headered csv file `2014 CY-YTD Passenger Raw Data_2-1.csv`.  Some background on this data can be found at:\n",
    "\n",
    "[http://www.transportation.gov/policy/aviation-policy/us-international-air-passenger-and-freight-statistics-report#TheData]\n",
    "\n",
    "The FAA data are \"AID\" data: they're about air transportation accidents and incidents.  They can be found at:\n",
    "\n",
    "http://av-info.faa.gov/dd_sublevel.asp?Folder=\\AID\n",
    "\n",
    "The FAA data you should use for the assignment are in the file `A2010_14.zip`, which is a zip archived tab delimited file.  (It should be tab delimited, but it might be fixed field.)  The layout of this file is in `Afilelayout.txt`. The FAA airport codes are in `Airport.txt.` The descriptions of various codes are in `AIDCODES.DOC`. You can find additional documentation on the FAA site, above."
   ]
  },
  {
   "cell_type": "markdown",
   "metadata": {},
   "source": [
    "## What You Need to Do"
   ]
  },
  {
   "cell_type": "markdown",
   "metadata": {},
   "source": [
    "Use the available data to do the following.\n",
    "\n",
    "1. Determine for the airports LAX, SFO, ATL, MIA, and JFK how many passenger departures and arrivals they each had in 2014, and which airline was each airport's largest departure carrier and the largest arrival carrier.\n",
    "2. For each of these airports, determine what airports the largest number of arrivals were from, and the airport that the largest number of departures went to.\n",
    "3. For each of these airports, determine the number of accidents or incidents that occurred at them between 2010 and 2014 inclusive, according to the FAA.  Determine the number of deaths that occurred in each event for each of these five airports.\n",
    "4. Determine what the top ten (primary) causes of 2010-2014 incidents and accidents are for all events resulting in deaths regardless of where they occurred. Provide descriptions (not codes) for the causes.\n",
    "\n",
    "Use the available data in the ways that work best for you.\n",
    "\n",
    "Note that in the USDOT data file there are commas in quantities that exceed one thousand.  Where this is the case, the quantity is enclosed in double quotes."
   ]
  },
  {
   "cell_type": "markdown",
   "metadata": {},
   "source": [
    "## Your Deliverables"
   ]
  },
  {
   "cell_type": "markdown",
   "metadata": {},
   "source": [
    "In three (3) pages or less in a pdf file, or in a notebook of equivalent length, provide the following.\n",
    "\n",
    "1. The results described above in 1 through 4.\n",
    "2. The code you used to produce your results, with an explanation of what each line of your code does.\n",
    "\n",
    "Save your results.  Be prepared to share them."
   ]
  }
 ],
 "metadata": {
  "kernelspec": {
   "display_name": "Python 2",
   "language": "python",
   "name": "python2"
  },
  "language_info": {
   "codemirror_mode": {
    "name": "ipython",
    "version": 2
   },
   "file_extension": ".py",
   "mimetype": "text/x-python",
   "name": "python",
   "nbconvert_exporter": "python",
   "pygments_lexer": "ipython2",
   "version": "2.7.10"
  }
 },
 "nbformat": 4,
 "nbformat_minor": 0
}
